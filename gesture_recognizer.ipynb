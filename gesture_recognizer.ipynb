{
 "cells": [
  {
   "cell_type": "markdown",
   "metadata": {
    "id": "h2q27gKz1H20"
   },
   "source": [
    "##### Copyright 2023 The MediaPipe Authors. All Rights Reserved."
   ]
  },
  {
   "cell_type": "code",
   "execution_count": 1,
   "metadata": {
    "cellView": "form",
    "id": "TUfAcER1oUS6",
    "ExecuteTime": {
     "end_time": "2024-03-13T07:16:36.765615Z",
     "start_time": "2024-03-13T07:16:36.759616Z"
    }
   },
   "outputs": [],
   "source": [
    "#@title Licensed under the Apache License, Version 2.0 (the \"License\");\n",
    "# you may not use this file except in compliance with the License.\n",
    "# You may obtain a copy of the License at\n",
    "#\n",
    "# https://www.apache.org/licenses/LICENSE-2.0\n",
    "#\n",
    "# Unless required by applicable law or agreed to in writing, software\n",
    "# distributed under the License is distributed on an \"AS IS\" BASIS,\n",
    "# WITHOUT WARRANTIES OR CONDITIONS OF ANY KIND, either express or implied.\n",
    "# See the License for the specific language governing permissions and\n",
    "# limitations under the License."
   ]
  },
  {
   "cell_type": "markdown",
   "metadata": {
    "id": "L_cQX8dWu4Dv"
   },
   "source": [
    "# Gesture Recognizer with MediaPipe Tasks\n",
    "\n",
    "This notebook shows you how to use MediaPipe Tasks Python API to recognize hand gestures in images."
   ]
  },
  {
   "cell_type": "markdown",
   "metadata": {
    "id": "O6PN9FvIx614"
   },
   "source": [
    "## Preparation\n",
    "\n",
    "Let's start with installing MediaPipe."
   ]
  },
  {
   "cell_type": "code",
   "execution_count": 2,
   "metadata": {
    "id": "gxbHBsF-8Y_l",
    "ExecuteTime": {
     "end_time": "2024-03-13T07:16:36.780711Z",
     "start_time": "2024-03-13T07:16:36.777711Z"
    }
   },
   "outputs": [],
   "source": [
    "# !pip install -q mediapipe"
   ]
  },
  {
   "cell_type": "markdown",
   "metadata": {
    "id": "a49D7h4TVmru"
   },
   "source": [
    "Then download an off-the-shelf model. This model can recognize 7 hand gestures: 👍, 👎, ✌️, ☝️, ✊, 👋, 🤟\n",
    "\n",
    "Check out the [MediaPipe documentation](https://developers.google.com/mediapipe/solutions/vision/gesture_recognizer#models) for more details about the model."
   ]
  },
  {
   "cell_type": "code",
   "execution_count": 3,
   "metadata": {
    "id": "OMjuVQiDYJKF",
    "ExecuteTime": {
     "end_time": "2024-03-13T07:16:36.844226Z",
     "start_time": "2024-03-13T07:16:36.838227Z"
    }
   },
   "outputs": [],
   "source": [
    "# !wget -q https://storage.googleapis.com/mediapipe-models/gesture_recognizer/gesture_recognizer/float16/1/gesture_recognizer.task"
   ]
  },
  {
   "cell_type": "markdown",
   "metadata": {
    "id": "8W_6sv5-JUdY"
   },
   "source": [
    "## Visualization Utilities"
   ]
  },
  {
   "cell_type": "code",
   "execution_count": 4,
   "metadata": {
    "cellView": "form",
    "id": "H4aPO-hvbw3r",
    "ExecuteTime": {
     "end_time": "2024-03-13T07:16:40.860818Z",
     "start_time": "2024-03-13T07:16:36.894387Z"
    }
   },
   "outputs": [],
   "source": [
    "import math\n",
    "\n",
    "import mediapipe as mp\n",
    "#@markdown We implemented some functions to visualize the gesture recognition results. <br/> Run the following cell to activate the functions.\n",
    "from matplotlib import pyplot as plt\n",
    "from mediapipe.framework.formats import landmark_pb2\n",
    "\n",
    "plt.rcParams.update({\n",
    "    'axes.spines.top': False,\n",
    "    'axes.spines.right': False,\n",
    "    'axes.spines.left': False,\n",
    "    'axes.spines.bottom': False,\n",
    "    'xtick.labelbottom': False,\n",
    "    'xtick.bottom': False,\n",
    "    'ytick.labelleft': False,\n",
    "    'ytick.left': False,\n",
    "    'xtick.labeltop': False,\n",
    "    'xtick.top': False,\n",
    "    'ytick.labelright': False,\n",
    "    'ytick.right': False\n",
    "})\n",
    "\n",
    "mp_hands = mp.solutions.hands\n",
    "mp_drawing = mp.solutions.drawing_utils\n",
    "mp_drawing_styles = mp.solutions.drawing_styles\n",
    "\n",
    "\n",
    "def display_one_image(image, title, subplot, titlesize=16):\n",
    "    \"\"\"Displays one image along with the predicted category name and score.\"\"\"\n",
    "    plt.subplot(*subplot)\n",
    "    plt.imshow(image)\n",
    "    if len(title) > 0:\n",
    "        plt.title(title, fontsize=int(titlesize), color='black', fontdict={'verticalalignment': 'center'},\n",
    "                  pad=int(titlesize / 1.5))\n",
    "    return subplot[0], subplot[1], subplot[2] + 1\n",
    "\n",
    "\n",
    "def display_batch_of_images_with_gestures_and_hand_landmarks(images, results):\n",
    "    \"\"\"Displays a batch of images with the gesture category and its score along with the hand landmarks.\"\"\"\n",
    "    # Images and labels.\n",
    "    images = [image.numpy_view() for image in images]\n",
    "    gestures = [top_gesture for (top_gesture, _) in results]\n",
    "    multi_hand_landmarks_list = [multi_hand_landmarks for (_, multi_hand_landmarks) in results]\n",
    "\n",
    "    # Auto-squaring: this will drop data that does not fit into square or square-ish rectangle.\n",
    "    rows = int(math.sqrt(len(images)))\n",
    "    cols = len(images) // rows\n",
    "\n",
    "    # Size and spacing.\n",
    "    FIGSIZE = 13.0\n",
    "    SPACING = 0.1\n",
    "    subplot = (rows, cols, 1)\n",
    "    if rows < cols:\n",
    "        plt.figure(figsize=(FIGSIZE, FIGSIZE / cols * rows))\n",
    "    else:\n",
    "        plt.figure(figsize=(FIGSIZE / rows * cols, FIGSIZE))\n",
    "\n",
    "    # Display gestures and hand landmarks.\n",
    "    for i, (image, gestures) in enumerate(zip(images[:rows * cols], gestures[:rows * cols])):\n",
    "        title = f\"{gestures.category_name} ({gestures.score:.2f})\"\n",
    "        dynamic_titlesize = FIGSIZE * SPACING / max(rows, cols) * 40 + 3\n",
    "        annotated_image = image.copy()\n",
    "\n",
    "        for hand_landmarks in multi_hand_landmarks_list[i]:\n",
    "            hand_landmarks_proto = landmark_pb2.NormalizedLandmarkList()\n",
    "            hand_landmarks_proto.landmark.extend([\n",
    "                landmark_pb2.NormalizedLandmark(x=landmark.x, y=landmark.y, z=landmark.z) for landmark in hand_landmarks\n",
    "            ])\n",
    "\n",
    "            mp_drawing.draw_landmarks(\n",
    "                annotated_image,\n",
    "                hand_landmarks_proto,\n",
    "                mp_hands.HAND_CONNECTIONS,\n",
    "                mp_drawing_styles.get_default_hand_landmarks_style(),\n",
    "                mp_drawing_styles.get_default_hand_connections_style())\n",
    "\n",
    "        subplot = display_one_image(annotated_image, title, subplot, titlesize=dynamic_titlesize)\n",
    "\n",
    "    # Layout.\n",
    "    plt.tight_layout()\n",
    "    plt.subplots_adjust(wspace=SPACING, hspace=SPACING)\n",
    "    plt.show()\n",
    "\n",
    "\n",
    "def display_batch_of_images_undetected(images):\n",
    "    images = [image.numpy_view() for image in images]\n",
    "\n",
    "    rows = int(math.sqrt(len(images)))\n",
    "    cols = len(images) // rows\n",
    "\n",
    "    # Size and spacing.\n",
    "    FIGSIZE = 13.0\n",
    "    SPACING = 0.1\n",
    "    subplot = (rows, cols, 1)\n",
    "    if rows < cols:\n",
    "        plt.figure(figsize=(FIGSIZE, FIGSIZE / cols * rows))\n",
    "    else:\n",
    "        plt.figure(figsize=(FIGSIZE / rows * cols, FIGSIZE))\n",
    "\n",
    "    for i, image in enumerate(images[:rows * cols]):\n",
    "        title = \"\"\n",
    "        dynamic_titlesize = FIGSIZE * SPACING / max(rows, cols) * 40 + 3\n",
    "        annotated_image = image.copy()\n",
    "        subplot = display_one_image(annotated_image, title, subplot, titlesize=dynamic_titlesize)\n",
    "\n",
    "    # Layout.\n",
    "    plt.tight_layout()\n",
    "    plt.subplots_adjust(wspace=SPACING, hspace=SPACING)\n",
    "    plt.show()\n"
   ]
  },
  {
   "cell_type": "markdown",
   "source": [
    "Create undetected and wrong label log files (.json)"
   ],
   "metadata": {
    "collapsed": false
   }
  },
  {
   "cell_type": "code",
   "outputs": [],
   "source": [
    "def create_log_file(data, filename: str):\n",
    "    if not os.path.exists('./out/logs'):\n",
    "        os.mkdir('./out/logs')\n",
    "    with open(f'./out/logs/{filename}.json', 'w') as f:\n",
    "        f.write(json.dumps(data))"
   ],
   "metadata": {
    "collapsed": false,
    "ExecuteTime": {
     "end_time": "2024-03-13T07:16:40.876178Z",
     "start_time": "2024-03-13T07:16:40.864736Z"
    }
   },
   "execution_count": 5
  },
  {
   "cell_type": "markdown",
   "metadata": {
    "id": "83PEJNp9yPBU"
   },
   "source": [
    "## Download test images\n",
    "\n",
    "Let's grab some test images that we'll use later. The images ([1](https://pixabay.com/photos/idea-pointing-raise-hand-raise-3082824/), [2](https://pixabay.com/photos/thumbs-up-happy-positive-woman-2649310/), [3](https://pixabay.com/photos/epidemic-disease-coronavirus-5082474/), [4](https://pixabay.com/photos/thumbs-down-disapprove-gesture-6744094/)) are from Pixabay."
   ]
  },
  {
   "cell_type": "code",
   "execution_count": 6,
   "metadata": {
    "id": "tzXuqyIBlXer",
    "ExecuteTime": {
     "end_time": "2024-03-13T07:16:40.906921Z",
     "start_time": "2024-03-13T07:16:40.878081Z"
    }
   },
   "outputs": [],
   "source": [
    "# import urllib\n",
    "# \n",
    "# IMAGE_FILENAMES = ['thumbs_down.jpg', 'victory.jpg', 'thumbs_up.jpg', 'pointing_up.jpg']\n",
    "# \n",
    "# for name in IMAGE_FILENAMES:\n",
    "#   url = f'https://storage.googleapis.com/mediapipe-tasks/gesture_recognizer/{name}'\n",
    "#   urllib.request.urlretrieve(url, name)"
   ]
  },
  {
   "cell_type": "markdown",
   "metadata": {
    "id": "XvwwAdKlgpSo"
   },
   "source": [
    "Optionally, you can upload your own image. If you want to do so, uncomment and run the cell below."
   ]
  },
  {
   "cell_type": "code",
   "execution_count": 7,
   "metadata": {
    "id": "9cW_V2HvguvE",
    "ExecuteTime": {
     "end_time": "2024-03-13T07:16:40.922075Z",
     "start_time": "2024-03-13T07:16:40.910913Z"
    }
   },
   "outputs": [],
   "source": [
    "# from google.colab import files\n",
    "# uploaded = files.upload()\n",
    "# \n",
    "# for filename in uploaded:\n",
    "#   content = uploaded[filename]\n",
    "#   with open(filename, 'wb') as f:\n",
    "#     f.write(content)\n",
    "# IMAGE_FILENAMES = list(uploaded.keys())\n",
    "# \n",
    "# print('Uploaded files:', IMAGE_FILENAMES)"
   ]
  },
  {
   "cell_type": "markdown",
   "source": [
    "Generate data.json file to save path and labels"
   ],
   "metadata": {
    "collapsed": false
   }
  },
  {
   "cell_type": "code",
   "outputs": [],
   "source": [
    "# generate image resource .json\n",
    "import os\n",
    "import json\n",
    "import params\n",
    "\n",
    "images = []\n",
    "\n",
    "for lb, v in params.LABELS.items():\n",
    "    if not os.path.exists(f'./data/new/{v}'):\n",
    "        continue\n",
    "    else:\n",
    "        IMAGE_FILENAMES = []\n",
    "        for _, _, files in os.walk(f'./data/new/{v}'):\n",
    "            IMAGE_FILENAMES = files\n",
    "        for filename in IMAGE_FILENAMES:\n",
    "            image = {\n",
    "                \"filename\": filename,\n",
    "                \"label\": v\n",
    "            }\n",
    "            images.append(image)\n",
    "\n",
    "with open('./data/data.json', 'w') as f:\n",
    "    f.write(json.dumps(images))"
   ],
   "metadata": {
    "collapsed": false,
    "ExecuteTime": {
     "end_time": "2024-03-13T07:16:40.952844Z",
     "start_time": "2024-03-13T07:16:40.923004Z"
    }
   },
   "execution_count": 8
  },
  {
   "cell_type": "markdown",
   "source": [
    "Loading all images in dataset"
   ],
   "metadata": {
    "collapsed": false
   }
  },
  {
   "cell_type": "code",
   "outputs": [
    {
     "name": "stdout",
     "output_type": "stream",
     "text": [
      "[{'filename': 'Cam Bien So_Camera 01_20340103165137_731447.jpg', 'label': 0}, {'filename': 'Cam Bien So_Camera 01_20340103165210_764842.jpg', 'label': 0}, {'filename': 'Cam Bien So_Camera 01_20340104002537_1932786.jpg', 'label': 0}, {'filename': 'Cam Bien So_Camera 01_20340104002553_1948368.jpg', 'label': 0}, {'filename': 'Cam Bien So_Camera 01_20340104002558_1954116.jpg', 'label': 0}, {'filename': 'Cam Bien So_Camera 01_20340104002602_1957587.jpg', 'label': 0}, {'filename': 'Cam Bien So_Camera 01_20340104002932_2167887.jpg', 'label': 0}, {'filename': 'Cam Bien So_Camera 01_20340104002954_2189530.jpg', 'label': 0}, {'filename': 'Cam AI_Camera 01_20340107002314_271957.jpg', 'label': 1}, {'filename': 'Cam AI_Camera 01_20340107002318_276528.jpg', 'label': 1}, {'filename': 'Cam AI_Camera 01_20340107002358_316704.jpg', 'label': 1}, {'filename': 'Cam AI_Camera 01_20340107002407_324889.jpg', 'label': 1}, {'filename': 'Cam AI_Camera 01_20340107003247_845193.jpg', 'label': 1}, {'filename': 'Cam AI_Camera 01_20340107003252_850370.jpg', 'label': 1}, {'filename': 'Cam AI_Camera 01_20340107003320_878114.jpg', 'label': 1}, {'filename': 'Cam AI_Camera 01_20340107003329_887042.jpg', 'label': 1}, {'filename': 'Cam AI_Camera 01_20340107003340_897988.jpg', 'label': 1}, {'filename': 'Cam AI_Camera 01_20340107003348_906286.jpg', 'label': 1}, {'filename': 'Cam AI_Camera 01_20340107003354_912612.jpg', 'label': 1}, {'filename': 'Cam AI_Camera 01_20340107003359_917804.jpg', 'label': 1}, {'filename': 'Cam AI_Camera 01_20340107003404_922213.jpg', 'label': 1}, {'filename': 'Cam AI_Camera 01_20340107003434_951830.jpg', 'label': 1}, {'filename': 'Cam AI_Camera 01_20340107003441_959631.jpg', 'label': 1}, {'filename': 'Cam AI_Camera 01_20340107003452_969960.jpg', 'label': 1}, {'filename': 'Cam AI_Camera 01_20340107003458_976414.jpg', 'label': 1}, {'filename': 'Cam AI_Camera 01_20340107003509_987281.jpg', 'label': 1}, {'filename': 'Cam AI_Camera 01_20340107003524_1002580.jpg', 'label': 1}, {'filename': 'Cam AI_Camera 01_20340107003546_1024601.jpg', 'label': 1}, {'filename': 'Cam AI_Camera 01_20340107003550_1028061.jpg', 'label': 1}, {'filename': 'Cam AI_Camera 01_20340107003554_1032318.jpg', 'label': 1}, {'filename': 'Cam AI_Camera 01_20340107003559_1037038.jpg', 'label': 1}, {'filename': 'Cam AI_Camera 01_20340107003608_1046642.jpg', 'label': 1}, {'filename': 'Cam AI_Camera 01_20340107003616_1054749.jpg', 'label': 1}, {'filename': 'Cam Bien So_Camera 01_20340103165157_751852.jpg', 'label': 1}, {'filename': 'Cam Bien So_Camera 01_20340103165202_756412.jpg', 'label': 1}, {'filename': 'Cam Bien So_Camera 01_20340104002401_1836313.jpg', 'label': 1}, {'filename': 'Cam Bien So_Camera 01_20340104002404_1840232.jpg', 'label': 1}, {'filename': 'Cam Bien So_Camera 01_20340104002409_1844313.jpg', 'label': 1}, {'filename': 'Cam Bien So_Camera 01_20340104002514_1910203.jpg', 'label': 1}, {'filename': 'Cam Bien So_Camera 01_20340104002519_1914430.jpg', 'label': 1}, {'filename': 'Cam Bien So_Camera 01_20340104002524_1920036.jpg', 'label': 1}, {'filename': 'Cam AI_Camera 01_20340107002218_216474.jpg', 'label': 2}, {'filename': 'Cam AI_Camera 01_20340107002423_341487.jpg', 'label': 2}, {'filename': 'Cam AI_Camera 01_20340107002431_348879.jpg', 'label': 2}, {'filename': 'Cam AI_Camera 01_20340107002436_353971.jpg', 'label': 2}, {'filename': 'Cam AI_Camera 01_20340107002438_356242.jpg', 'label': 2}, {'filename': 'Cam AI_Camera 01_20340107002454_372169.jpg', 'label': 2}, {'filename': 'Cam AI_Camera 01_20340107002457_375284.jpg', 'label': 2}, {'filename': 'Cam AI_Camera 01_20340107002500_378371.jpg', 'label': 2}, {'filename': 'Cam AI_Camera 01_20340107002503_381495.jpg', 'label': 2}, {'filename': 'Cam AI_Camera 01_20340107003738_1136224.jpg', 'label': 2}, {'filename': 'Cam AI_Camera 01_20340107003754_1152573.jpg', 'label': 2}, {'filename': 'Cam AI_Camera 01_20340107003804_1162570.jpg', 'label': 2}, {'filename': 'Cam AI_Camera 01_20340107003817_1175329.jpg', 'label': 2}, {'filename': 'Cam AI_Camera 01_20340107003833_1191557.jpg', 'label': 2}, {'filename': 'Cam AI_Camera 01_20340107003841_1199401.jpg', 'label': 2}, {'filename': 'Cam AI_Camera 01_20340107003854_1212200.jpg', 'label': 2}, {'filename': 'Cam AI_Camera 01_20340107003905_1223062.jpg', 'label': 2}, {'filename': 'Cam AI_Camera 01_20340107003939_1257643.jpg', 'label': 2}, {'filename': 'Cam AI_Camera 01_20340107003946_1264586.jpg', 'label': 2}, {'filename': 'Cam AI_Camera 01_20340107003959_1277528.jpg', 'label': 2}, {'filename': 'Cam AI_Camera 01_20340107004020_1298169.jpg', 'label': 2}, {'filename': 'Cam AI_Camera 01_20340107004029_1307668.jpg', 'label': 2}, {'filename': 'Cam AI_Camera 01_20340107004033_1310873.jpg', 'label': 2}, {'filename': 'Cam Bien So_Camera 01_20340103165141_735623.jpg', 'label': 2}, {'filename': 'Cam Bien So_Camera 01_20340103165153_748123.jpg', 'label': 2}, {'filename': 'Cam Bien So_Camera 01_20340103165207_761461.jpg', 'label': 2}, {'filename': 'Cam Bien So_Camera 01_20340103165226_780337.jpg', 'label': 2}, {'filename': 'Cam Bien So_Camera 01_20340103165232_786851.jpg', 'label': 2}, {'filename': 'Cam Bien So_Camera 01_20340104002633_1988974.jpg', 'label': 2}, {'filename': 'Cam Bien So_Camera 01_20340104002637_1992555.jpg', 'label': 2}, {'filename': 'Cam Bien So_Camera 01_20340104002641_1996616.jpg', 'label': 2}, {'filename': 'Cam Bien So_Camera 01_20340104002644_1999744.jpg', 'label': 2}, {'filename': 'Cam Bien So_Camera 01_20340104002654_2009315.jpg', 'label': 2}, {'filename': 'Cam Bien So_Camera 01_20340104002657_2013027.jpg', 'label': 2}, {'filename': 'Cam Bien So_Camera 01_20340104002701_2017125.jpg', 'label': 2}, {'filename': 'Cam Bien So_Camera 01_20340104002705_2021085.jpg', 'label': 2}, {'filename': 'Cam AI_Camera 01_20340107002523_401037.jpg', 'label': 3}, {'filename': 'Cam AI_Camera 01_20340107002536_413995.jpg', 'label': 3}, {'filename': 'Cam AI_Camera 01_20340107002600_437983.jpg', 'label': 3}, {'filename': 'Cam AI_Camera 01_20340107002610_447877.jpg', 'label': 3}, {'filename': 'Cam AI_Camera 01_20340107002628_466240.jpg', 'label': 3}, {'filename': 'Cam AI_Camera 01_20340107002631_468870.jpg', 'label': 3}, {'filename': 'Cam AI_Camera 01_20340107002635_473159.jpg', 'label': 3}, {'filename': 'Cam AI_Camera 01_20340107002638_476479.jpg', 'label': 3}, {'filename': 'Cam AI_Camera 01_20340107002642_480269.jpg', 'label': 3}, {'filename': 'Cam AI_Camera 01_20340107004218_1416276.jpg', 'label': 3}, {'filename': 'Cam AI_Camera 01_20340107004221_1419518.jpg', 'label': 3}, {'filename': 'Cam AI_Camera 01_20340107004227_1425754.jpg', 'label': 3}, {'filename': 'Cam AI_Camera 01_20340107004233_1431594.jpg', 'label': 3}, {'filename': 'Cam AI_Camera 01_20340107004258_1456031.jpg', 'label': 3}, {'filename': 'Cam AI_Camera 01_20340107004305_1463795.jpg', 'label': 3}, {'filename': 'Cam Bien So_Camera 01_20340104002720_2035285.jpg', 'label': 3}, {'filename': 'Cam Bien So_Camera 01_20340104002723_2038650.jpg', 'label': 3}, {'filename': 'Cam Bien So_Camera 01_20340104002727_2042327.jpg', 'label': 3}, {'filename': 'Cam Bien So_Camera 01_20340104002730_2045690.jpg', 'label': 3}, {'filename': 'Cam Bien So_Camera 01_20340104002733_2048989.jpg', 'label': 3}, {'filename': 'Cam Bien So_Camera 01_20340104002736_2051731.jpg', 'label': 3}, {'filename': 'Cam AI_Camera 01_20340107003004_682568.jpg', 'label': 4}, {'filename': 'Cam AI_Camera 01_20340107003009_687150.jpg', 'label': 4}, {'filename': 'Cam AI_Camera 01_20340107003020_698196.jpg', 'label': 4}, {'filename': 'Cam Bien So_Camera 01_20340104002750_2066067.jpg', 'label': 4}, {'filename': 'Cam Bien So_Camera 01_20340104002811_2086386.jpg', 'label': 4}, {'filename': 'Cam Bien So_Camera 01_20340104002819_2094389.jpg', 'label': 4}, {'filename': 'Cam Bien So_Camera 01_20340104002828_2103522.jpg', 'label': 4}, {'filename': 'Cam Bien So_Camera 01_20340104002831_2107168.jpg', 'label': 4}, {'filename': 'Cam Bien So_Camera 01_20340104002835_2111024.jpg', 'label': 4}, {'filename': 'Cam AI_Camera 01_20340107002837_595228.jpg', 'label': 5}, {'filename': 'Cam AI_Camera 01_20340107002845_603526.jpg', 'label': 5}, {'filename': 'Cam AI_Camera 01_20340107002905_622985.jpg', 'label': 5}, {'filename': 'Cam AI_Camera 01_20340107002907_625243.jpg', 'label': 5}, {'filename': 'Cam AI_Camera 01_20340107002913_631039.jpg', 'label': 5}, {'filename': 'Cam AI_Camera 01_20340107002915_632916.jpg', 'label': 5}, {'filename': 'Cam AI_Camera 01_20340107002925_643289.jpg', 'label': 5}, {'filename': 'Cam AI_Camera 01_20340107002950_668342.jpg', 'label': 5}, {'filename': 'Cam AI_Camera 01_20340107002954_672638.jpg', 'label': 5}, {'filename': 'Cam Bien So_Camera 01_20340103165129_723719.jpg', 'label': 5}, {'filename': 'Cam Bien So_Camera 01_20340103165214_768921.jpg', 'label': 5}, {'filename': 'Cam Bien So_Camera 01_20340104002845_2121024.jpg', 'label': 5}, {'filename': 'Cam Bien So_Camera 01_20340104002851_2126558.jpg', 'label': 5}, {'filename': 'Cam Bien So_Camera 01_20340104002855_2130302.jpg', 'label': 5}, {'filename': 'Cam Bien So_Camera 01_20340104002900_2135977.jpg', 'label': 5}, {'filename': 'Cam Bien So_Camera 01_20340104002907_2142959.jpg', 'label': 5}, {'filename': 'Cam Bien So_Camera 01_20340104002911_2146950.jpg', 'label': 5}, {'filename': 'Cam AI_Camera 01_20340107003033_711820.jpg', 'label': 6}, {'filename': 'Cam AI_Camera 01_20340107003039_717306.jpg', 'label': 6}, {'filename': 'Cam AI_Camera 01_20340107003042_720229.jpg', 'label': 6}, {'filename': 'Cam AI_Camera 01_20340107003044_722215.jpg', 'label': 6}, {'filename': 'Cam AI_Camera 01_20340107003052_730705.jpg', 'label': 6}, {'filename': 'Cam AI_Camera 01_20340107003057_735036.jpg', 'label': 6}, {'filename': 'Cam Bien So_Camera 01_20340103165124_718347.jpg', 'label': 6}, {'filename': 'Cam Bien So_Camera 01_20340103165221_775881.jpg', 'label': 6}, {'filename': 'Cam Bien So_Camera 01_20340104002927_2162986.jpg', 'label': 6}, {'filename': 'Cam Bien So_Camera 01_20340104002935_2171172.jpg', 'label': 6}, {'filename': 'Cam Bien So_Camera 01_20340104002948_2183446.jpg', 'label': 6}, {'filename': 'Cam Bien So_Camera 01_20340104002957_2192360.jpg', 'label': 6}, {'filename': 'Cam AI_Camera 01_20340107003108_746773.jpg', 'label': 7}, {'filename': 'Cam AI_Camera 01_20340107003122_760358.jpg', 'label': 7}, {'filename': 'Cam AI_Camera 01_20340107003127_765366.jpg', 'label': 7}, {'filename': 'Cam AI_Camera 01_20340107003129_767056.jpg', 'label': 7}, {'filename': 'Cam AI_Camera 01_20340107003136_773952.jpg', 'label': 7}, {'filename': 'Cam AI_Camera 01_20340107003137_775391.jpg', 'label': 7}, {'filename': 'Cam AI_Camera 01_20340107003139_777767.jpg', 'label': 7}, {'filename': 'Cam AI_Camera 01_20340107003141_779193.jpg', 'label': 7}, {'filename': 'Cam Bien So_Camera 01_20340103165145_740107.jpg', 'label': 7}, {'filename': 'Cam Bien So_Camera 01_20340104003126_2282053.jpg', 'label': 7}, {'filename': 'Cam Bien So_Camera 01_20340104003129_2285138.jpg', 'label': 7}, {'filename': 'Cam Bien So_Camera 01_20340104003143_2298573.jpg', 'label': 7}, {'filename': 'Cam Bien So_Camera 01_20340104003147_2303162.jpg', 'label': 7}]\n"
     ]
    }
   ],
   "source": [
    "import params\n",
    "import json\n",
    "\n",
    "# ROOT = os.path.dirname(__file__)\n",
    "IMAGE_FILENAMES = []\n",
    "with open('./data/data.json', 'r') as f:\n",
    "    IMAGE_FILENAMES.extend(json.load(f))\n",
    "\n",
    "print(IMAGE_FILENAMES)"
   ],
   "metadata": {
    "collapsed": false,
    "ExecuteTime": {
     "end_time": "2024-03-13T07:16:40.968900Z",
     "start_time": "2024-03-13T07:16:40.954845Z"
    }
   },
   "execution_count": 9
  },
  {
   "cell_type": "markdown",
   "metadata": {
    "id": "P8XRmapjySMN"
   },
   "source": [
    "Then let's check out the images."
   ]
  },
  {
   "cell_type": "code",
   "execution_count": 10,
   "metadata": {
    "id": "8rjHk72-lmHX",
    "ExecuteTime": {
     "end_time": "2024-03-13T07:16:40.984493Z",
     "start_time": "2024-03-13T07:16:40.970879Z"
    }
   },
   "outputs": [],
   "source": [
    "# import cv2\n",
    "# import math\n",
    "# \n",
    "# DESIRED_HEIGHT = 480\n",
    "# DESIRED_WIDTH = 480\n",
    "# \n",
    "# \n",
    "# def resize_and_show(image):\n",
    "#     h, w = image.shape[:2]\n",
    "#     if h < w:\n",
    "#         img = cv2.resize(image, (DESIRED_WIDTH, math.floor(h / (w / DESIRED_WIDTH))))\n",
    "#     else:\n",
    "#         img = cv2.resize(image, (math.floor(w / (h / DESIRED_HEIGHT)), DESIRED_HEIGHT))\n",
    "#     cv2.imshow(\"window\", img)\n",
    "# \n",
    "# \n",
    "# # Preview the images.\n",
    "# images = {\n",
    "#     \"name\": cv2.imread(f\"./data/new/{name['label']}/{name['filename']}\") for name in IMAGE_FILENAMES\n",
    "# }\n",
    "# for name, image in images.items():\n",
    "#     print(name)\n",
    "#     resize_and_show(image)"
   ]
  },
  {
   "cell_type": "markdown",
   "metadata": {
    "id": "Iy4r2_ePylIa"
   },
   "source": [
    "## Running inference and visualizing the results\n",
    "\n",
    "Here are the steps to run gesture recognizer using MediaPipe.\n",
    "\n",
    "Check out the [MediaPipe documentation](https://developers.google.com/mediapipe/solutions/vision/gesture_recognizer/python) to learn more about configuration options that this solution supports.\n",
    "\n",
    "*Note: Gesture Recognizer also returns the hand landmark it detects from the image, together with other useful information such as whether the hand(s) detected are left hand or right hand.*"
   ]
  },
  {
   "cell_type": "code",
   "outputs": [
    {
     "name": "stdout",
     "output_type": "stream",
     "text": [
      "149\n"
     ]
    }
   ],
   "source": [
    "# Total samples\n",
    "total_images = len(IMAGE_FILENAMES)\n",
    "print(total_images)"
   ],
   "metadata": {
    "collapsed": false,
    "ExecuteTime": {
     "end_time": "2024-03-13T07:16:41.000386Z",
     "start_time": "2024-03-13T07:16:40.987495Z"
    }
   },
   "execution_count": 11
  },
  {
   "cell_type": "code",
   "execution_count": 12,
   "metadata": {
    "id": "KHqaswD6M8iO",
    "ExecuteTime": {
     "end_time": "2024-03-13T07:16:44.192261Z",
     "start_time": "2024-03-13T07:16:41.003387Z"
    }
   },
   "outputs": [
    {
     "ename": "RuntimeError",
     "evalue": "File loading is not yet supported on Windows",
     "output_type": "error",
     "traceback": [
      "\u001B[1;31m---------------------------------------------------------------------------\u001B[0m",
      "\u001B[1;31mRuntimeError\u001B[0m                              Traceback (most recent call last)",
      "\u001B[1;32m~\\AppData\\Local\\Temp\\ipykernel_24524\\2426350881.py\u001B[0m in \u001B[0;36m<module>\u001B[1;34m\u001B[0m\n\u001B[0;32m      8\u001B[0m \u001B[0mbase_options\u001B[0m \u001B[1;33m=\u001B[0m \u001B[0mpython\u001B[0m\u001B[1;33m.\u001B[0m\u001B[0mBaseOptions\u001B[0m\u001B[1;33m(\u001B[0m\u001B[0mmodel_asset_path\u001B[0m\u001B[1;33m=\u001B[0m\u001B[1;34m'gesture_recognizer.task'\u001B[0m\u001B[1;33m)\u001B[0m\u001B[1;33m\u001B[0m\u001B[1;33m\u001B[0m\u001B[0m\n\u001B[0;32m      9\u001B[0m \u001B[0moptions\u001B[0m \u001B[1;33m=\u001B[0m \u001B[0mvision\u001B[0m\u001B[1;33m.\u001B[0m\u001B[0mGestureRecognizerOptions\u001B[0m\u001B[1;33m(\u001B[0m\u001B[0mbase_options\u001B[0m\u001B[1;33m=\u001B[0m\u001B[0mbase_options\u001B[0m\u001B[1;33m,\u001B[0m \u001B[0mnum_hands\u001B[0m\u001B[1;33m=\u001B[0m\u001B[1;36m1\u001B[0m\u001B[1;33m)\u001B[0m\u001B[1;33m\u001B[0m\u001B[1;33m\u001B[0m\u001B[0m\n\u001B[1;32m---> 10\u001B[1;33m \u001B[0mrecognizer\u001B[0m \u001B[1;33m=\u001B[0m \u001B[0mvision\u001B[0m\u001B[1;33m.\u001B[0m\u001B[0mGestureRecognizer\u001B[0m\u001B[1;33m.\u001B[0m\u001B[0mcreate_from_options\u001B[0m\u001B[1;33m(\u001B[0m\u001B[0moptions\u001B[0m\u001B[1;33m)\u001B[0m\u001B[1;33m\u001B[0m\u001B[1;33m\u001B[0m\u001B[0m\n\u001B[0m\u001B[0;32m     11\u001B[0m \u001B[1;33m\u001B[0m\u001B[0m\n\u001B[0;32m     12\u001B[0m \u001B[0mn_not_detected\u001B[0m \u001B[1;33m=\u001B[0m \u001B[1;36m0\u001B[0m\u001B[1;33m\u001B[0m\u001B[1;33m\u001B[0m\u001B[0m\n",
      "\u001B[1;32mE:\\anaconda3\\envs\\AIHub\\lib\\site-packages\\mediapipe\\tasks\\python\\vision\\gesture_recognizer.py\u001B[0m in \u001B[0;36mcreate_from_options\u001B[1;34m(cls, options)\u001B[0m\n\u001B[0;32m    298\u001B[0m             \u001B[0menable_flow_limiting\u001B[0m\u001B[1;33m=\u001B[0m\u001B[0moptions\u001B[0m\u001B[1;33m.\u001B[0m\u001B[0mrunning_mode\u001B[0m \u001B[1;33m==\u001B[0m\u001B[1;33m\u001B[0m\u001B[1;33m\u001B[0m\u001B[0m\n\u001B[0;32m    299\u001B[0m             _RunningMode.LIVE_STREAM), options.running_mode,\n\u001B[1;32m--> 300\u001B[1;33m         packets_callback if options.result_callback else None)\n\u001B[0m\u001B[0;32m    301\u001B[0m \u001B[1;33m\u001B[0m\u001B[0m\n\u001B[0;32m    302\u001B[0m   def recognize(\n",
      "\u001B[1;32mE:\\anaconda3\\envs\\AIHub\\lib\\site-packages\\mediapipe\\tasks\\python\\vision\\core\\base_vision_task_api.py\u001B[0m in \u001B[0;36m__init__\u001B[1;34m(self, graph_config, running_mode, packet_callback)\u001B[0m\n\u001B[0;32m     63\u001B[0m           \u001B[1;34m'The vision task is in image or video mode, a user-defined result '\u001B[0m\u001B[1;33m\u001B[0m\u001B[1;33m\u001B[0m\u001B[0m\n\u001B[0;32m     64\u001B[0m           'callback should not be provided.')\n\u001B[1;32m---> 65\u001B[1;33m     \u001B[0mself\u001B[0m\u001B[1;33m.\u001B[0m\u001B[0m_runner\u001B[0m \u001B[1;33m=\u001B[0m \u001B[0m_TaskRunner\u001B[0m\u001B[1;33m.\u001B[0m\u001B[0mcreate\u001B[0m\u001B[1;33m(\u001B[0m\u001B[0mgraph_config\u001B[0m\u001B[1;33m,\u001B[0m \u001B[0mpacket_callback\u001B[0m\u001B[1;33m)\u001B[0m\u001B[1;33m\u001B[0m\u001B[1;33m\u001B[0m\u001B[0m\n\u001B[0m\u001B[0;32m     66\u001B[0m     \u001B[0mself\u001B[0m\u001B[1;33m.\u001B[0m\u001B[0m_running_mode\u001B[0m \u001B[1;33m=\u001B[0m \u001B[0mrunning_mode\u001B[0m\u001B[1;33m\u001B[0m\u001B[1;33m\u001B[0m\u001B[0m\n\u001B[0;32m     67\u001B[0m \u001B[1;33m\u001B[0m\u001B[0m\n",
      "\u001B[1;31mRuntimeError\u001B[0m: File loading is not yet supported on Windows"
     ]
    }
   ],
   "source": [
    "# STEP 1: Import the necessary modules.\n",
    "import mediapipe as mp\n",
    "from mediapipe.tasks import python\n",
    "from mediapipe.tasks.python import vision\n",
    "from sklearn.metrics import classification_report\n",
    "\n",
    "# STEP 2: Create an GestureRecognizer object.\n",
    "base_options = python.BaseOptions(model_asset_path='gesture_recognizer.task')\n",
    "options = vision.GestureRecognizerOptions(base_options=base_options, num_hands=1)\n",
    "recognizer = vision.GestureRecognizer.create_from_options(options)\n",
    "\n",
    "n_not_detected = 0\n",
    "n_wrong_label = 0\n",
    "\n",
    "images = []\n",
    "results = []\n",
    "idx = 0\n",
    "\n",
    "img_not_detected = []\n",
    "img_wrong_label = []\n",
    "wrong_results = []\n",
    "\n",
    "y_pred = []\n",
    "y_true = []\n",
    "\n",
    "log_images = []\n",
    "\n",
    "for image_file_name in IMAGE_FILENAMES:\n",
    "    # STEP 3: Load the input image.\n",
    "    filename = './data/new/' + str(image_file_name['label']) + \"/\" + image_file_name['filename']\n",
    "    image = mp.Image.create_from_file(filename)\n",
    "\n",
    "    # STEP 4: Recognize gestures in the input image.\n",
    "    recognition_result = recognizer.recognize(image)\n",
    "\n",
    "    if len(recognition_result.gestures) == 0:\n",
    "        img_not_detected.append(image)\n",
    "        n_not_detected += 1\n",
    "\n",
    "        log_images.append({\n",
    "            \"filename\": image_file_name['filename'],\n",
    "            \"label\": image_file_name['label'],\n",
    "            \"status\": \"Undetected\"\n",
    "        })\n",
    "\n",
    "        continue\n",
    "    else:\n",
    "        # STEP 5: Process the result. In this case, visualize it.\n",
    "        lb_str = recognition_result.gestures[0][0].category_name\n",
    "        lb = params.LABELS[lb_str]\n",
    "        y_pred.append(lb)\n",
    "        y_true.append(image_file_name['label'])\n",
    "        if lb != image_file_name['label']:\n",
    "            img_wrong_label.append(image)\n",
    "            top_gesture = recognition_result.gestures[0][0]\n",
    "            hand_landmarks = recognition_result.hand_landmarks\n",
    "            wrong_results.append((top_gesture, hand_landmarks))\n",
    "            n_wrong_label += 1\n",
    "\n",
    "            log_images.append({\n",
    "                \"filename\": image_file_name['filename'],\n",
    "                \"label\": image_file_name['label'],\n",
    "                \"status\": \"Wrong label\"\n",
    "            })\n",
    "        else:\n",
    "            images.append(image)\n",
    "            top_gesture = recognition_result.gestures[0][0]\n",
    "            hand_landmarks = recognition_result.hand_landmarks\n",
    "            results.append((top_gesture, hand_landmarks))\n",
    "\n",
    "display_batch_of_images_with_gestures_and_hand_landmarks(images, results)\n",
    "\n",
    "create_log_file(log_images, filename=f'undetected_and_wrong_label_for_{len(IMAGE_FILENAMES)}')\n",
    "\n",
    "print(\n",
    "    f\"Number of images: {total_images}, Number of undetected images: {n_not_detected}/{total_images}, Number of wrong label images: {n_wrong_label}/{total_images - n_not_detected}\")\n",
    "\n",
    "display_batch_of_images_with_gestures_and_hand_landmarks(img_wrong_label, wrong_results)\n",
    "display_batch_of_images_undetected(img_not_detected)\n",
    "\n",
    "print(classification_report(y_true, y_pred))"
   ]
  },
  {
   "cell_type": "code",
   "outputs": [],
   "source": [
    "# # Do analysis on logs file\n",
    "# import json\n",
    "# import pandas as pd\n",
    "# df = pd.read_json('./out/logs/undetected_and_wrong_label_for_60.json')\n",
    "# df"
   ],
   "metadata": {
    "collapsed": false,
    "ExecuteTime": {
     "start_time": "2024-03-13T07:16:44.194257Z"
    }
   },
   "execution_count": null
  },
  {
   "cell_type": "code",
   "outputs": [],
   "source": [],
   "metadata": {
    "collapsed": false,
    "ExecuteTime": {
     "end_time": "2024-03-13T07:16:44.195446Z",
     "start_time": "2024-03-13T07:16:44.195446Z"
    }
   }
  }
 ],
 "metadata": {
  "colab": {
   "provenance": []
  },
  "kernelspec": {
   "display_name": "Python 3 (ipykernel)",
   "language": "python",
   "name": "python3"
  },
  "language_info": {
   "codemirror_mode": {
    "name": "ipython",
    "version": 3
   },
   "file_extension": ".py",
   "mimetype": "text/x-python",
   "name": "python",
   "nbconvert_exporter": "python",
   "pygments_lexer": "ipython3",
   "version": "3.8.10"
  }
 },
 "nbformat": 4,
 "nbformat_minor": 0
}
